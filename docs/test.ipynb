{
 "cells": [
  {
   "cell_type": "markdown",
   "id": "5a44aaf3-a5c4-48c9-9c9c-a31c380d1a88",
   "metadata": {},
   "source": [
    "# Simple test"
   ]
  },
  {
   "cell_type": "code",
   "execution_count": 1,
   "id": "3d65aa0d-ddc8-4631-9294-762cd8283fd5",
   "metadata": {},
   "outputs": [],
   "source": [
    "import bpy"
   ]
  },
  {
   "cell_type": "code",
   "execution_count": 2,
   "id": "5eeb1401-e849-4a99-8c8f-7a0e3a780b0a",
   "metadata": {},
   "outputs": [],
   "source": [
    "from bpy_lattice.lattice import test"
   ]
  },
  {
   "cell_type": "code",
   "execution_count": 3,
   "id": "ac881285-f971-49d3-81a7-cb33f265383f",
   "metadata": {},
   "outputs": [
    {
     "name": "stdout",
     "output_type": "stream",
     "text": [
      "Object:  test_pipe\n",
      "pipe_object\n",
      "Mesh:  test_pipe\n",
      "Mesh:  test_pipe\n",
      "pipe mesh vertices:  60 60\n"
     ]
    }
   ],
   "source": [
    "test()"
   ]
  }
 ],
 "metadata": {
  "kernelspec": {
   "display_name": "Python 3 (ipykernel)",
   "language": "python",
   "name": "python3"
  },
  "language_info": {
   "codemirror_mode": {
    "name": "ipython",
    "version": 3
   },
   "file_extension": ".py",
   "mimetype": "text/x-python",
   "name": "python",
   "nbconvert_exporter": "python",
   "pygments_lexer": "ipython3",
   "version": "3.11.10"
  }
 },
 "nbformat": 4,
 "nbformat_minor": 5
}
