{
 "cells": [
  {
   "cell_type": "markdown",
   "id": "3b201dba-f0d3-485d-959e-0a19f011ef6f",
   "metadata": {},
   "source": [
    "# Bmad interface example"
   ]
  },
  {
   "cell_type": "code",
   "execution_count": null,
   "id": "ae1e2bf2-97d3-4b29-bd1b-a6c9f9ae09fb",
   "metadata": {},
   "outputs": [],
   "source": [
    "from bpy_lattice.interfaces.bmad import write_bpy_lattice_csv\n",
    "from pytao import Tao\n",
    "import os"
   ]
  },
  {
   "cell_type": "code",
   "execution_count": null,
   "id": "9faa92cc-2608-4eb8-b4eb-3ebe7a6df149",
   "metadata": {},
   "outputs": [],
   "source": [
    "LATTICE_FILE = \"lat.bmad\"\n",
    "CSV_FILE = \"lat.layout_table\"\n",
    "\n",
    "LATTICE_STR = \"\"\"no_digested\n",
    "beginning[beta_a] = 1\n",
    "beginning[beta_b] = 1\n",
    "beginning[e_tot] = 1e9\n",
    "parameter[geometry] = open\n",
    "\n",
    "\n",
    "\n",
    "marker1: marker\n",
    "drift1: drift, L = 1\n",
    "ecollimator1: ecollimator, L = 1\n",
    "instrument1: instrument, L =1 \n",
    "lcavity1: lcavity, L =1\n",
    "pipe1: pipe, L = 1\n",
    "quadrupole1: quadrupole, L = 1\n",
    "rcollimator1: rcollimator, L = 1\n",
    "sbend1: sbend, L = 1, angle = pi/4\n",
    "sextupole1: sextupole, L = 1\n",
    "solenoid1: solenoid, L = 1\n",
    "wiggler1: wiggler, L = 1, l_period = 0.1, n_period = 10\n",
    "\n",
    "\n",
    "\n",
    "lat: line = (marker1,\n",
    "drift1,\n",
    "ecollimator1,\n",
    "instrument1,\n",
    "lcavity1,\n",
    "pipe1, \n",
    "quadrupole1,\n",
    "rcollimator1,\n",
    "sbend1,\n",
    "wiggler1)\n",
    "use, lat\n",
    "\n",
    "\"\"\"\n",
    "\n",
    "\n",
    "with open(LATTICE_FILE, \"w\") as f:\n",
    "    f.write(LATTICE_STR)"
   ]
  },
  {
   "cell_type": "code",
   "execution_count": null,
   "id": "9ed5c02d-5dd9-4dec-bad6-b0eb6e6e0ddb",
   "metadata": {},
   "outputs": [],
   "source": [
    "tao = Tao(lattice_file=LATTICE_FILE, plot=\"mpl\")\n",
    "tao.plot(\"floor\", ylim=(-2, 2))"
   ]
  },
  {
   "cell_type": "code",
   "execution_count": null,
   "id": "b16c2142-76b1-4dc5-a48f-2964d3bcf018",
   "metadata": {},
   "outputs": [],
   "source": [
    "write_bpy_lattice_csv(tao, CSV_FILE)"
   ]
  },
  {
   "cell_type": "code",
   "execution_count": null,
   "id": "5dedda10-0505-4562-a19a-fb54d66cf496",
   "metadata": {},
   "outputs": [],
   "source": [
    "!cat {CSV_FILE}"
   ]
  },
  {
   "cell_type": "markdown",
   "id": "ac6a9290-d02c-4bcd-bbca-5689f031fbb1",
   "metadata": {},
   "source": [
    "# Cleanup"
   ]
  },
  {
   "cell_type": "code",
   "execution_count": null,
   "id": "9534bb0e-ef8f-4141-8835-afc4d7758faa",
   "metadata": {},
   "outputs": [],
   "source": [
    "os.remove(LATTICE_FILE)\n",
    "os.remove(CSV_FILE)"
   ]
  }
 ],
 "metadata": {
  "kernelspec": {
   "display_name": "Python 3 (ipykernel)",
   "language": "python",
   "name": "python3"
  },
  "language_info": {
   "codemirror_mode": {
    "name": "ipython",
    "version": 3
   },
   "file_extension": ".py",
   "mimetype": "text/x-python",
   "name": "python",
   "nbconvert_exporter": "python",
   "pygments_lexer": "ipython3",
   "version": "3.11.0"
  }
 },
 "nbformat": 4,
 "nbformat_minor": 5
}
